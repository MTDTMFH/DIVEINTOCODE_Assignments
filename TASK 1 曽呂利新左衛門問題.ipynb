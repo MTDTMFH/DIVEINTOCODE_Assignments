{
 "cells": [
  {
   "cell_type": "markdown",
   "metadata": {},
   "source": [
    "# WEEK 1 課題１：曽呂利新左衛門問題\n",
    "\n",
    "### 問題1】100日目の米粒の数\n",
    "\n",
    "100日目には合計で米粒をいくつもらっているのかを計算するコードを作成し、答えを出力してください。また、1日目から100日目までの「その日にもらう米の数」と「その日までに累計で貰う米の数」の推移を折れ線グラフで表現してください。（縦軸が米の数、横軸が日数）"
   ]
  },
  {
   "cell_type": "code",
   "execution_count": 70,
   "metadata": {},
   "outputs": [
    {
     "name": "stdout",
     "output_type": "stream",
     "text": [
      "[1, 2, 3, 4, 5, 6, 7, 8, 9, 10, 11, 12, 13, 14, 15, 16, 17, 18, 19, 20, 21, 22, 23, 24, 25, 26, 27, 28, 29, 30, 31, 32, 33, 34, 35, 36, 37, 38, 39, 40, 41, 42, 43, 44, 45, 46, 47, 48, 49, 50, 51, 52, 53, 54, 55, 56, 57, 58, 59, 60, 61, 62, 63, 64, 65, 66, 67, 68, 69, 70, 71, 72, 73, 74, 75, 76, 77, 78, 79, 80, 81, 82, 83, 84, 85, 86, 87, 88, 89, 90, 91, 92, 93, 94, 95, 96, 97, 98, 99, 100]\n",
      "[1, 2, 4, 8, 16, 32, 64, 128, 256, 512, 1024, 2048, 4096, 8192, 16384, 32768, 65536, 131072, 262144, 524288, 1048576, 2097152, 4194304, 8388608, 16777216, 33554432, 67108864, 134217728, 268435456, 536870912, 1073741824, 2147483648, 4294967296, 8589934592, 17179869184, 34359738368, 68719476736, 137438953472, 274877906944, 549755813888, 1099511627776, 2199023255552, 4398046511104, 8796093022208, 17592186044416, 35184372088832, 70368744177664, 140737488355328, 281474976710656, 562949953421312, 1125899906842624, 2251799813685248, 4503599627370496, 9007199254740992, 18014398509481984, 36028797018963968, 72057594037927936, 144115188075855872, 288230376151711744, 576460752303423488, 1152921504606846976, 2305843009213693952, 4611686018427387904, 9223372036854775808, 18446744073709551616, 36893488147419103232, 73786976294838206464, 147573952589676412928, 295147905179352825856, 590295810358705651712, 1180591620717411303424, 2361183241434822606848, 4722366482869645213696, 9444732965739290427392, 18889465931478580854784, 37778931862957161709568, 75557863725914323419136, 151115727451828646838272, 302231454903657293676544, 604462909807314587353088, 1208925819614629174706176, 2417851639229258349412352, 4835703278458516698824704, 9671406556917033397649408, 19342813113834066795298816, 38685626227668133590597632, 77371252455336267181195264, 154742504910672534362390528, 309485009821345068724781056, 618970019642690137449562112, 1237940039285380274899124224, 2475880078570760549798248448, 4951760157141521099596496896, 9903520314283042199192993792, 19807040628566084398385987584, 39614081257132168796771975168, 79228162514264337593543950336, 158456325028528675187087900672, 316912650057057350374175801344, 633825300114114700748351602688]\n",
      "[1, 3, 7, 15, 31, 63, 127, 255, 511, 1023, 2047, 4095, 8191, 16383, 32767, 65535, 131071, 262143, 524287, 1048575, 2097151, 4194303, 8388607, 16777215, 33554431, 67108863, 134217727, 268435455, 536870911, 1073741823, 2147483647, 4294967295, 8589934591, 17179869183, 34359738367, 68719476735, 137438953471, 274877906943, 549755813887, 1099511627775, 2199023255551, 4398046511103, 8796093022207, 17592186044415, 35184372088831, 70368744177663, 140737488355327, 281474976710655, 562949953421311, 1125899906842623, 2251799813685247, 4503599627370495, 9007199254740991, 18014398509481983, 36028797018963967, 72057594037927935, 144115188075855871, 288230376151711743, 576460752303423487, 1152921504606846975, 2305843009213693951, 4611686018427387903, 9223372036854775807, 18446744073709551615, 36893488147419103231, 73786976294838206463, 147573952589676412927, 295147905179352825855, 590295810358705651711, 1180591620717411303423, 2361183241434822606847, 4722366482869645213695, 9444732965739290427391, 18889465931478580854783, 37778931862957161709567, 75557863725914323419135, 151115727451828646838271, 302231454903657293676543, 604462909807314587353087, 1208925819614629174706175, 2417851639229258349412351, 4835703278458516698824703, 9671406556917033397649407, 19342813113834066795298815, 38685626227668133590597631, 77371252455336267181195263, 154742504910672534362390527, 309485009821345068724781055, 618970019642690137449562111, 1237940039285380274899124223, 2475880078570760549798248447, 4951760157141521099596496895, 9903520314283042199192993791, 19807040628566084398385987583, 39614081257132168796771975167, 79228162514264337593543950335, 158456325028528675187087900671, 316912650057057350374175801343, 633825300114114700748351602687, 1267650600228229401496703205375]\n"
     ]
    }
   ],
   "source": [
    "kome = 0\n",
    "days = []\n",
    "kome_per_day = []\n",
    "total_kome = 0\n",
    "total_kome_list = []\n",
    "kome_schedule = {}\n",
    "\n",
    "for i in range(100):\n",
    "    kome = 2 ** i\n",
    "    days.append(i+1)\n",
    "    kome_per_day.append(kome)\n",
    "    total_kome += kome\n",
    "    total_kome_list.append(total_kome)\n",
    "\n",
    "'''\n",
    "出力の確認\n",
    "#print(len(days))\n",
    "#print(days)\n",
    "#print(kome_per_day)\n",
    "#print(total_kome)\n",
    "#print(total_kome_list)\n",
    "\n",
    "Dictionaryの作成練習\n",
    "\n",
    "#print(kome_schedule)\n",
    "for day in days:\n",
    "    for i in kome_per_day:\n",
    "        kome_schedule[day] = i\n",
    "        kome_per_day.remove(i) #なぜこのラインが必要なのかイメージできない？？？\n",
    "        break\n",
    "\n",
    "'''\n",
    "#matplotlibのグラフに必要なリストの出力確認\n",
    "print(days)\n",
    "print(kome_per_day)\n",
    "print(total_kome_list)\n",
    "    "
   ]
  },
  {
   "cell_type": "code",
   "execution_count": 60,
   "metadata": {},
   "outputs": [
    {
     "data": {
      "image/png": "[encoded data removed]",
      "text/plain": [
       "<Figure size 432x288 with 1 Axes>"
      ]
     },
     "metadata": {
      "needs_background": "light"
     },
     "output_type": "display_data"
    }
   ],
   "source": [
    "#グラフの作成\n",
    "\n",
    "from matplotlib import pyplot as plt\n",
    "\n",
    "plt.title(\"Rice received: Per day vs total count\")\n",
    "plt.xlabel(\"Number of Days\")\n",
    "plt.ylabel(\"Rice Count\")\n",
    "plt.plot(days, kome_per_day, 'r', label='Per day count')\n",
    "plt.plot(days, total_kome_list, 'g', label='Total count')\n",
    "plt.legend(loc=\"upper left\")\n",
    "plt.show()"
   ]
  },
  {
   "cell_type": "markdown",
   "metadata": {},
   "source": [
    "### 【問題2】100日目以外の米粒の数\n",
    "\n",
    "この逸話は30日だったり81日だったりと日数が曖昧です。どの話にも対応できるように日数を引数とした 関数 を作成しましょう。関数を作成した上で、コースを受講する日数の間でいくつ米粒をもらえるかを答えてください。前の問題同様に折れ線グラフも出力してください。\n",
    "\n",
    "\n",
    "以下の雛形には関数としての枠組みだけではなく、引数や返り値についてのコメントも記載してあります。参考にして、自分なりにも分かりやすくコメントを書き換えてください。"
   ]
  },
  {
   "cell_type": "code",
   "execution_count": 61,
   "metadata": {},
   "outputs": [
    {
     "name": "stdout",
     "output_type": "stream",
     "text": [
      "8\n"
     ]
    }
   ],
   "source": [
    "# 任意の日数・開始の米粒の量を加えて作成\n",
    "\n",
    "def count_rice(days, initial_kome):\n",
    "    #days = 0 = today\n",
    "    count = initial_kome*(2**days)\n",
    "    return count\n",
    "\n",
    "print(count_rice(3, 1))"
   ]
  },
  {
   "cell_type": "code",
   "execution_count": 62,
   "metadata": {},
   "outputs": [
    {
     "name": "stdout",
     "output_type": "stream",
     "text": [
      "116\n"
     ]
    }
   ],
   "source": [
    "# コースの受講日数\n",
    "\n",
    "from datetime import datetime\n",
    "\n",
    "start_date = \"2021-01-04\"\n",
    "end_date = \"2021-04-30\"\n",
    "start_date_int = datetime.strptime(start_date, \"%Y-%m-%d\").date()\n",
    "end_date_int = datetime.strptime(end_date, \"%Y-%m-%d\").date()\n",
    "delta =  (end_date_int - start_date_int).days\n",
    "print(delta)"
   ]
  },
  {
   "cell_type": "code",
   "execution_count": 63,
   "metadata": {},
   "outputs": [
    {
     "name": "stdout",
     "output_type": "stream",
     "text": [
      "83076749736557242056487941267521536\n"
     ]
    }
   ],
   "source": [
    "# コースの受講日数期間内にもらう米粒\n",
    "\n",
    "print(count_rice(delta, 1))"
   ]
  },
  {
   "cell_type": "markdown",
   "metadata": {},
   "source": [
    "### 【問題3】貰える米で何人が何日生活できるか\n",
    "\n",
    "この米があれば何人が何日生活できるか計算する関数を作成してください。コースを受講する期間に貰える米粒で、このクラスにいる人数であれば、何日間生活できるかを出力してみましょう。\n",
    "\n",
    "\n",
    "関数の最低限の入力は 米粒の数(int) と 人数(int) 、出力は 生活できる日数(int) です。関数名やコメントなどは分かりやすく考えて作成してください。\n",
    "\n",
    "\n",
    "ここでは1日に必要な米粒の数は提示しません。自分なりに調べて、計算式に落とし込んでください。どう調べ、何を根拠にしたかもコメントを残しておいてください。"
   ]
  },
  {
   "cell_type": "code",
   "execution_count": 67,
   "metadata": {},
   "outputs": [
    {
     "name": "stdout",
     "output_type": "stream",
     "text": [
      "6.086208771908955e+29\n"
     ]
    }
   ],
   "source": [
    "# １日に摂取する米の量に関するデータ元\n",
    "'''\n",
    "# お茶碗のコメの量＝３２５０粒\n",
    "URL: https://www.maff.go.jp/j/heya/sodan/1806/03.html#:~:text=%E5%93%81%E7%A8%AE%E3%82%84%E7%82%8A%E3%81%8D%E6%96%B9%E3%81%AB%E3%82%88%E3%82%8A,%E7%B4%843%EF%BC%8C250%E7%B2%92%E3%81%82%E3%82%8A%E3%81%BE%E3%81%99%E3%80%82\n",
    "# １日に摂取するご飯の量＝３杯とする\n",
    "'''\n",
    "\n",
    "# コースの受講日数期間内にもらう米粒\n",
    "rice_total = count_rice(delta, 1)\n",
    "\n",
    "# コースの受講者\n",
    "students = 14\n",
    "\n",
    "# 米粒の数(int) と 人数(int) 、出力は 生活できる日数(int) \n",
    "def rice_needed(rice_count, no_people):\n",
    "    rice_per_day = rice_count/(3250*3)\n",
    "    days = rice_per_day/no_people\n",
    "    return days\n",
    "\n",
    "print(rice_needed(rice_total, students))"
   ]
  },
  {
   "cell_type": "code",
   "execution_count": 69,
   "metadata": {},
   "outputs": [
    {
     "name": "stdout",
     "output_type": "stream",
     "text": [
      "273000\n",
      "2.0\n"
     ]
    }
   ],
   "source": [
    "# 上記の結果は、妥当なのか確認できないため、14人がお茶碗３杯分のお米を２日間摂取した場合、出力結果が２になるかどうかの確認\n",
    "number_required = 3250*3*14*2\n",
    "print(number_required)\n",
    "\n",
    "print(rice_needed(number_required, students))"
   ]
  },
  {
   "cell_type": "markdown",
   "metadata": {},
   "source": [
    "結果に異常が見られなかったので、計算が正しいと判断"
   ]
  }
 ],
 "metadata": {
  "kernelspec": {
   "display_name": "Python 3",
   "language": "python",
   "name": "python3"
  },
  "language_info": {
   "codemirror_mode": {
    "name": "ipython",
    "version": 3
   },
   "file_extension": ".py",
   "mimetype": "text/x-python",
   "name": "python",
   "nbconvert_exporter": "python",
   "pygments_lexer": "ipython3",
   "version": "3.7.0"
  }
 },
 "nbformat": 4,
 "nbformat_minor": 2
}
