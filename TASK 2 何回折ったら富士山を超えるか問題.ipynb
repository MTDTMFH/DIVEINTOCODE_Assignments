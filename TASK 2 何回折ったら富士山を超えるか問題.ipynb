{
 "cells": [
  {
   "cell_type": "markdown",
   "metadata": {},
   "source": [
    "# WEEK1 授業課題２：何回折ったら富士山を超えるか問題\n",
    "\n",
    "\n",
    "### 【問題1】富士山を超える最小の折る回数\n",
    "厚さが「富士山(3776m)」を超えるのは何回紙を折った時か計算するプログラムを作成してください。\n",
    "\n",
    "「Pythonを使ってみよう」の問題では「1枚の紙を43回折り曲げた時の厚さを計算するプログラム」を作成し、43回折ることで月に届くことが確認できました。\n",
    "\n",
    "\n",
    "ここで「何回折ったらある厚さになるのか」という疑問が生まれます。こういったことを計算するプログラムを作成していきましょう。"
   ]
  },
  {
   "cell_type": "code",
   "execution_count": 2,
   "metadata": {},
   "outputs": [
    {
     "name": "stdout",
     "output_type": "stream",
     "text": [
      "Fuji height exceed when folded 26 times\n"
     ]
    }
   ],
   "source": [
    "THICKNESS = 0.00008\n",
    "MT_FUJI_HIGH = 3776\n",
    "mind_folds = 0\n",
    "i = 0\n",
    "\n",
    "while True:\n",
    "    i+=1\n",
    "    folded_thickness = THICKNESS * (2**i)\n",
    "    \n",
    "    if folded_thickness >= MT_FUJI_HIGH:\n",
    "        break\n",
    "\n",
    "print(\"Fuji height exceed when folded {} times\".format(i))"
   ]
  },
  {
   "cell_type": "markdown",
   "metadata": {},
   "source": [
    "## 【問題2】任意の厚さに対応した関数を作成\n",
    "距離を入力すると、何回折った時に超えるかを出力する関数を作成してください。引数として、折る前の厚さ \n",
    "t\n",
    "0\n",
    " も設定できるようにしましょう。\n",
    "\n",
    "\n",
    "この関数を利用して、「最も近い太陽以外の恒星」に到達するには紙を何回折る必要があるか計算してください。「最も近い太陽以外の恒星」の距離は調査してください。\n",
    "\n",
    "### 距離・高さを入力すると、何回折った時に超えるかを出力する関数"
   ]
  },
  {
   "cell_type": "code",
   "execution_count": 3,
   "metadata": {},
   "outputs": [
    {
     "name": "stdout",
     "output_type": "stream",
     "text": [
      "26\n"
     ]
    }
   ],
   "source": [
    "def times_fold(height, thickness):\n",
    "    i = 0\n",
    "    \n",
    "    while True:\n",
    "        i+=1\n",
    "        folded_thickness = thickness * (2**i)\n",
    "        \n",
    "        if folded_thickness >= height:\n",
    "            return i\n",
    "            \n",
    "\n",
    "print(times_fold(3776, THICKNESS))"
   ]
  },
  {
   "cell_type": "markdown",
   "metadata": {},
   "source": [
    "### 最も近い太陽以外の恒星\n",
    "\n",
    "１）プロキシマ・ケンタウリは、4.243光年\n",
    "https://ja.wikipedia.org/wiki/%E8%BF%91%E3%81%84%E6%81%92%E6%98%9F%E3%81%AE%E4%B8%80%E8%A6%A7\n",
    "\n",
    "\n",
    "２）光年からメートルへの変換\n",
    "4.243光年＝4.01419e+16m　（4014190000000000000000)\n",
    "\n",
    "https://www.google.com/search?q=4.243+light+years+to+meters&oq=4.&aqs=chrome.1.69i57j69i59l3j0i457j0j69i65j69i60.1958j0j7&sourceid=chrome&ie=UTF-8\n"
   ]
  },
  {
   "cell_type": "code",
   "execution_count": 4,
   "metadata": {},
   "outputs": [
    {
     "name": "stdout",
     "output_type": "stream",
     "text": [
      "69\n"
     ]
    }
   ],
   "source": [
    "#プロキシマ・ケンタウリ\n",
    "\n",
    "print(times_fold(4.01419e+16, THICKNESS))"
   ]
  },
  {
   "cell_type": "code",
   "execution_count": 5,
   "metadata": {},
   "outputs": [
    {
     "name": "stdout",
     "output_type": "stream",
     "text": [
      "43\n"
     ]
    }
   ],
   "source": [
    "#月の数値も前回と一致するか確認\n",
    "\n",
    "print(times_fold(384400000, THICKNESS))"
   ]
  },
  {
   "cell_type": "markdown",
   "metadata": {},
   "source": [
    "### 【問題3】必要な紙の長さ\n",
    "\n",
    "実際のところ身近にある紙は43回はおろか10回も折れません。しかし、大きな紙ほどたくさん折ることができ、トイレットペーパーのような長い紙を一方向に折ることを考えた時の折れる回数を求める公式が存在します。\n",
    "\n",
    "\n",
    "厚さ t0の紙をn回折るために必要な紙の長さLは以下の公式で求まります。"
   ]
  },
  {
   "attachments": {
    "Screen%20Shot%202021-01-07%20at%2015.38.22.png": {
     "image/png": "[encoded data removed]"
    }
   },
   "cell_type": "markdown",
   "metadata": {},
   "source": [
    "![Screen%20Shot%202021-01-07%20at%2015.38.22.png](attachment:Screen%20Shot%202021-01-07%20at%2015.38.22.png)"
   ]
  },
  {
   "cell_type": "code",
   "execution_count": 6,
   "metadata": {},
   "outputs": [],
   "source": [
    "#Function for length of paper\n",
    "\n",
    "import math\n",
    "\n",
    "def paper_length(n_fold, thickness):\n",
    "    Length = math.pi*thickness/6*(2**n_fold + 4)*(2**n_fold - 1)\n",
    "    return Length\n"
   ]
  },
  {
   "cell_type": "code",
   "execution_count": 11,
   "metadata": {},
   "outputs": [
    {
     "name": "stdout",
     "output_type": "stream",
     "text": [
      "富士山に到達するまで紙を折り続けるには、長さ18864.634848724018万キロメートルの紙が必要だ\n",
      "月に到達するまで紙を折り続けるには、長さ324091944417078.1万キロメートルの紙が必要だ\n",
      "プロキシマ・ケンタウリに到達するまで紙を折り続けるには、長さ1.4595803601100346e+30万キロメートルの紙が必要だ\n"
     ]
    }
   ],
   "source": [
    "#Length of paper for different places\n",
    "\n",
    "#Mt FUJI - 3776m\n",
    "Paper_length_Fuji = paper_length(26, THICKNESS)\n",
    "\n",
    "#Moon - 384,400 km or 384,400,000m\n",
    "Paper_length_Moon = paper_length(43, THICKNESS)\n",
    "\n",
    "#プロキシマ・ケンタウリ - 4014190000000000000000m\n",
    "Paper_length_Proxy = paper_length(69, THICKNESS)\n",
    "\n",
    "Distance_dict = {\"富士山\": Paper_length_Fuji, \"月\": Paper_length_Moon, \"プロキシマ・ケンタウリ\": Paper_length_Proxy}\n",
    "\n",
    "def results_print(Distance_dict):\n",
    "    for places in Distance_dict:\n",
    "        print(\"{}に到達するまで紙を折り続けるには、長さ{}万キロメートルの紙が必要だ\".format(places, (Distance_dict[places]/1000/10000)))\n",
    "\n",
    "results_print(Distance_dict)"
   ]
  }
 ],
 "metadata": {
  "kernelspec": {
   "display_name": "Python 3",
   "language": "python",
   "name": "python3"
  },
  "language_info": {
   "codemirror_mode": {
    "name": "ipython",
    "version": 3
   },
   "file_extension": ".py",
   "mimetype": "text/x-python",
   "name": "python",
   "nbconvert_exporter": "python",
   "pygments_lexer": "ipython3",
   "version": "3.7.0"
  }
 },
 "nbformat": 4,
 "nbformat_minor": 2
}
